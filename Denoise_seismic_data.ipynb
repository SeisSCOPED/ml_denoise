{
 "cells": [
  {
   "cell_type": "markdown",
   "metadata": {},
   "source": [
    "# Denoise Seismic Waveform for Earthquakes"
   ]
  },
  {
   "cell_type": "code",
   "execution_count": null,
   "metadata": {},
   "outputs": [],
   "source": [
    "import h5py\n",
    "import numpy as np\n",
    "\n",
    "from obspy import UTCDateTime\n",
    "from obspy.taup import TauPyModel\n",
    "from obspy.clients.fdsn import Client\n",
    "from obspy.geodetics import locations2degrees\n",
    "\n",
    "import matplotlib\n",
    "from matplotlib import pyplot as plt\n",
    "matplotlib.rcParams.update({'font.size': 12})\n",
    "%matplotlib inline"
   ]
  },
  {
   "cell_type": "markdown",
   "metadata": {},
   "source": [
    "## Step 0. Prepare 3-component earthquake waveforms"
   ]
  },
  {
   "cell_type": "markdown",
   "metadata": {},
   "source": [
    "\n",
    "First, to find earthquakes of interest.\n",
    "\n",
    "We use the ISC client to get a earthquake catalog"
   ]
  },
  {
   "cell_type": "code",
   "execution_count": null,
   "metadata": {},
   "outputs": [],
   "source": [
    "\n",
    "t1 = UTCDateTime(\"2002-02-01\")\n",
    "t2 = UTCDateTime(\"2002-02-02\")\n",
    "cat = Client(\"ISC\").get_events(starttime=t1,\n",
    "                                endtime=t2,\n",
    "                                minmagnitude=5.0,\n",
    "                                maxmagnitude=6.5,\n",
    "                                mindepth=100.0,\n",
    "                                maxdepth=600.0)\n",
    "print(cat)"
   ]
  },
  {
   "cell_type": "markdown",
   "metadata": {},
   "source": [
    "---\n",
    "Let's start with one of the earthquakes, and get its location and time."
   ]
  },
  {
   "cell_type": "code",
   "execution_count": null,
   "metadata": {},
   "outputs": [],
   "source": [
    "ev = cat[0]\n",
    "ev_t = ev.origins[0].time\n",
    "evlo = ev.origins[0].longitude\n",
    "evla = ev.origins[0].latitude\n",
    "evdp = ev.origins[0].depth / 1000\n",
    "print(f'Event time: {ev_t}, Event location: {evlo:.2f}°, {evla:.2f}°, {evdp:.0f} km')"
   ]
  },
  {
   "cell_type": "markdown",
   "metadata": {},
   "source": [
    "---\n",
    "Then, we need to download the data. What stations do you like?"
   ]
  },
  {
   "cell_type": "code",
   "execution_count": null,
   "metadata": {},
   "outputs": [],
   "source": [
    "network = 'IU'\n",
    "station_list = [ \"ANMO\", \"CTAO\", \"GNI\", \"INCN\", \"KEV\", \"MAJO\", \"HNR\", \"KNTN\", \"NWAO\", \"POHA\", \"PTCN\", \"SFJD\", \"SNZO\", \"TATO\", \"ULN\"]\n",
    "model = TauPyModel(model=\"iasp91\")"
   ]
  },
  {
   "cell_type": "markdown",
   "metadata": {},
   "source": [
    "\n",
    "Some parameters for pre-processing the data. \n",
    "\n",
    "The key is to trim the 3-component traces to 1500 samples."
   ]
  },
  {
   "cell_type": "code",
   "execution_count": null,
   "metadata": {},
   "outputs": [],
   "source": [
    "dt = 0.1  # sampling interval\n",
    "npts = 1500  # number of samples of each trace\n",
    "pre_len_ratio = 0.5  # ratio of the noise window length to the total trace length\n",
    "preP = int(pre_len_ratio * npts * dt)  # number of samples of the noise window before the P arrival\n",
    "aftP = npts * dt - preP  # number of samples of the noise window after the P arrival"
   ]
  },
  {
   "cell_type": "markdown",
   "metadata": {},
   "source": [
    "\n",
    "Download data for the stations you defined and do the pre-processing "
   ]
  },
  {
   "cell_type": "code",
   "execution_count": null,
   "metadata": {},
   "outputs": [],
   "source": [
    "all_data = []\n",
    "### Process each station\n",
    "for station in station_list:\n",
    "    ### Get station coordinates \n",
    "    inv = Client(\"IRIS\").get_stations(network=network, station=station, level='channel')\n",
    "    stla = inv[0][0].latitude\n",
    "    stlo = inv[0][0].longitude\n",
    "\n",
    "    ### Calculate the distance and the theoretical arrival time\n",
    "    dist_deg = locations2degrees(evla, evlo, stla, stlo)\n",
    "    arrivals = model.get_travel_times(source_depth_in_km=evdp, \n",
    "                                      distance_in_degree=dist_deg)\n",
    "    tp = UTCDateTime(ev_t + arrivals[0].time)\n",
    "    print(f\"Station {station} is located at {stla:.2f}°, {stlo:.2f}°, distance to the event is {dist_deg:.2f}°\")\n",
    "\n",
    "    try:\n",
    "        ### Download the data\n",
    "        st = Client(\"IRIS\").get_waveforms(network=network, \n",
    "                                          station=station, \n",
    "                                          location='00', \n",
    "                                          channel='BH?',\n",
    "                                          starttime=tp - preP, \n",
    "                                          endtime=tp + aftP)\n",
    "        ### Preprocess the data\n",
    "        st.filter(\"lowpass\", freq=4.0)\n",
    "        st.resample(10)\n",
    "\n",
    "        ### Only keep the station with 3 components\n",
    "        if len(st) == 3:\n",
    "            all_data.append(st)\n",
    "            \n",
    "    except:\n",
    "        print(f\"Failed to download data for station {station}\")\n",
    "        continue"
   ]
  },
  {
   "cell_type": "markdown",
   "metadata": {},
   "source": [
    "---\n",
    "Convert the stream data to numpy array.\n",
    "\n",
    "The shape should be (N_station, 1500, 3), which the denoiser likes."
   ]
  },
  {
   "cell_type": "code",
   "execution_count": null,
   "metadata": {},
   "outputs": [],
   "source": [
    "data = np.array(all_data)[:,:,:npts]  # Stream --> Numpy Array\n",
    "data = np.swapaxes(data, 1, 2)  # (N, 3, 1500) --> (N, 1500, 3)\n",
    "\n",
    "print(\"The numpy array has the shape of\", data.shape)\n",
    "\n",
    "### Normalize the data for better visualization\n",
    "data = (data - np.mean(data, axis=1, keepdims=True)) / (np.std(data, axis=1, keepdims=True) + 1e-10)"
   ]
  },
  {
   "cell_type": "markdown",
   "metadata": {},
   "source": [
    "---\n",
    "How does the raw data look like?"
   ]
  },
  {
   "cell_type": "code",
   "execution_count": null,
   "metadata": {},
   "outputs": [],
   "source": [
    "plt.figure(figsize=(12, 6))\n",
    "\n",
    "for i in range(len(data)):\n",
    "    plt.text(10, i+0.2, station_list[i], fontsize=12, color='black')  # Station name\n",
    "    plt.plot(data[i,:,0]/5+i, color='black')  # Z component waveform\n",
    "    plt.vlines(preP/dt, -0.5, len(station_list)-0.5, color='black', linestyle='--')  # P time in theory\n",
    "plt.ylim(-0.5, len(data)-0.5)\n",
    "plt.xlabel('Time (s)')\n",
    "plt.ylabel('Station index')\n",
    "plt.title('Z component waveforms')"
   ]
  },
  {
   "cell_type": "markdown",
   "metadata": {},
   "source": [
    "---\n",
    "Save the raw data as a HDF5 file. \n",
    "\n",
    "This will be the input for the denoiser."
   ]
  },
  {
   "cell_type": "code",
   "execution_count": null,
   "metadata": {},
   "outputs": [],
   "source": [
    "with h5py.File('data.h5', 'w') as f:\n",
    "    f.create_dataset('quake', data=data)"
   ]
  },
  {
   "cell_type": "markdown",
   "metadata": {},
   "source": [
    "### Step 1. Denoise the earthquake waveforms in numpy array"
   ]
  },
  {
   "cell_type": "markdown",
   "metadata": {},
   "source": [
    "Change the **config.ini** in your work folder first!"
   ]
  },
  {
   "cell_type": "code",
   "execution_count": null,
   "metadata": {},
   "outputs": [],
   "source": [
    "# ! denote_predict  # Denoise the real but noisy data\n",
    "\n",
    "print(\"\\ndone! \\ncheck the work directory for the denoised data and the sameple figure. \")"
   ]
  },
  {
   "cell_type": "markdown",
   "metadata": {},
   "source": [
    "---\n",
    "Save the results to a new HDF5 files.\n",
    "\n",
    "This includes the denoised earthquake waveform and the separated noises."
   ]
  },
  {
   "cell_type": "code",
   "execution_count": null,
   "metadata": {},
   "outputs": [],
   "source": [
    "with h5py.File('separated_quake_and_noise.hdf5', 'r') as f:\n",
    "    quake = f['quake'][:]\n",
    "    noise = f['noise'][:]"
   ]
  },
  {
   "cell_type": "markdown",
   "metadata": {},
   "source": [
    "We have selected a sample trace to plot the denoising performance (work folder).\n",
    "\n",
    "Here, we can visualize all the denoised traces.\n"
   ]
  },
  {
   "cell_type": "code",
   "execution_count": null,
   "metadata": {},
   "outputs": [],
   "source": [
    "plt.figure(figsize=(12, 6))\n",
    "for i in range(len(quake)): \n",
    "    plt.text(10, i+0.2, station_list[i], fontsize=12, color='black')  # Station name\n",
    "    plt.plot(quake[i,0,:]/5+i, color='black')  # Z component waveform\n",
    "    plt.vlines(preP/dt, -0.5, len(station_list)-0.5, color='black', linestyle='--')  # P time in theory\n",
    "plt.ylim(-0.5, len(quake)-0.5)\n",
    "plt.xlabel('Time (s)')\n",
    "plt.ylabel('Station index')\n",
    "plt.title('Denoised earthquake signal')"
   ]
  },
  {
   "cell_type": "markdown",
   "metadata": {},
   "source": [
    "---\n",
    "How does the separated noises look like?"
   ]
  },
  {
   "cell_type": "code",
   "execution_count": null,
   "metadata": {},
   "outputs": [],
   "source": [
    "plt.figure(figsize=(12, 6))\n",
    "for i in range(len(noise)):\n",
    "    plt.text(10, i+0.2, station_list[i], fontsize=12, color='black')\n",
    "    plt.plot(noise[i,0,:]/5+i, color='black')\n",
    "    plt.vlines(preP/dt, -0.5, len(station_list)-0.5, color='black', linestyle='--')\n",
    "plt.ylim(-0.5, len(noise)-0.5)\n",
    "plt.xlabel('Time (s)')\n",
    "plt.ylabel('Station index')\n",
    "plt.title('noise signal')"
   ]
  },
  {
   "cell_type": "markdown",
   "metadata": {},
   "source": [
    "## Step 2. Retraining and testing the denoiser, if needed"
   ]
  },
  {
   "cell_type": "code",
   "execution_count": null,
   "metadata": {},
   "outputs": [],
   "source": [
    "! denote_train"
   ]
  },
  {
   "cell_type": "code",
   "execution_count": null,
   "metadata": {},
   "outputs": [],
   "source": [
    "! denote_test\n",
    "\n",
    "print(\"Done testing the denoiser! Check the figure folder for results. \")"
   ]
  }
 ],
 "metadata": {
  "kernelspec": {
   "display_name": "denoise",
   "language": "python",
   "name": "python3"
  },
  "language_info": {
   "codemirror_mode": {
    "name": "ipython",
    "version": 3
   },
   "file_extension": ".py",
   "mimetype": "text/x-python",
   "name": "python",
   "nbconvert_exporter": "python",
   "pygments_lexer": "ipython3",
   "version": "3.9.12"
  }
 },
 "nbformat": 4,
 "nbformat_minor": 2
}
